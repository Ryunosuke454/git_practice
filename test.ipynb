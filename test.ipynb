{
 "cells": [
  {
   "cell_type": "code",
   "execution_count": 6,
   "id": "0904cf10",
   "metadata": {},
   "outputs": [
    {
     "name": "stdout",
     "output_type": "stream",
     "text": [
      "Yamada 30\n",
      "Suzuki 40\n",
      "Tanaka 80\n",
      "Yamada 30\n",
      "Suzuki 40\n",
      "Tanaka 80\n",
      "30\n",
      "40\n",
      "80\n",
      "Yamada 30\n",
      "Suzuki 40\n",
      "Tanaka 80\n"
     ]
    }
   ],
   "source": [
    "d ={'Yamada': 30,'Suzuki': 40,'Tanaka': 80,}\n",
    "\n",
    "d1 = d['Yamada']\n",
    "d2 = d['Suzuki']\n",
    "d3 = d['Tanaka']\n",
    "\n",
    "for k, v in d.items():\n",
    "    print(k, v)            # Tanaka 80, Yamada 30, Suzuki 40\n",
    "\n",
    "for k in d.keys():\n",
    "    print(k, d[k])         # Suzuki 40, Yamada 30, Tanaka 80\n",
    "\n",
    "for v in d.values():\n",
    "    print(v)               # 80, 30, 40\n",
    "\n",
    "for k, v in d.items():\n",
    "    print(k, v)            # Tanaka 80, Yamada 30, Suzuki 40\n"
   ]
  },
  {
   "cell_type": "code",
   "execution_count": 7,
   "id": "53a2ae86",
   "metadata": {},
   "outputs": [
    {
     "name": "stdout",
     "output_type": "stream",
     "text": [
      "[2, 4, 6]\n",
      "[2, 4, 6]\n",
      "[2, 4, 6]\n"
     ]
    }
   ],
   "source": [
    "a = [1, 2, 3]\n",
    "\n",
    "def double(x): return x * 2\n",
    "print(list(map(double, a)))  # [2, 4, 6]\n",
    "print(list(map(lambda x: x * 2, a)))  # [2, 4, 6]\n",
    "print([x*2 for x in a])  # [2, 4, 6]"
   ]
  },
  {
   "cell_type": "code",
   "execution_count": 8,
   "id": "d68a8537",
   "metadata": {},
   "outputs": [
    {
     "name": "stdout",
     "output_type": "stream",
     "text": [
      "[1, 3]\n",
      "[1, 3]\n",
      "[1, 3]\n"
     ]
    }
   ],
   "source": [
    "a = [1, 2, 3]\n",
    "\n",
    "def isodd(x): return x % 2\n",
    "print(list(filter(isodd, a)))              #=> [1, 3] : 関数方式\n",
    "print(list(filter(lambda x: x % 2, a)))    #=> [1, 3] : lambda方式\n",
    "print([x for x in a if x % 2])             #=> [1, 3] : 内包表記(後述)"
   ]
  },
  {
   "cell_type": "code",
   "execution_count": null,
   "id": "b384503f",
   "metadata": {},
   "outputs": [],
   "source": [
    "from functools import reduce\n",
    "\n",
    "a = [1, 2, 3, 4, 5]\n",
    "\n",
    "def add(x, y): return x + y\n",
    "print(reduce(add, a))  #=> 15 : 関数方式\n",
    "print(reduce(lambda x, y: x + y, a))  #=> 15 : lambda方式"
   ]
  },
  {
   "cell_type": "code",
   "execution_count": null,
   "id": "c94063ba",
   "metadata": {},
   "outputs": [],
   "source": [
    "a = [1, 2, 3]\n",
    "print([x * 2 for x in a])                       #=> [2, 4, 6]\n",
    "print([x * 2 for x in a if x == 3])             #=> [6]\n",
    "print([[x, x * 2] for x in a])                  #=> [[1, 2], [2, 4], [3, 6]]\n",
    "print([(x, x * 2) for x in a])                  #=> [(1, 2), (2, 4), (3, 6)]\n",
    "\n",
    "b = [4, 5, 6]\n",
    "print([x * y for x in a for y in b])            #=> [4, 5, 6, 8, 10, 12, 12, 15, 18]\n",
    "print([a[i] * b[i] for i in range(len(a))])     #=> [4, 10, 18]"
   ]
  },
  {
   "cell_type": "code",
   "execution_count": 12,
   "id": "87ce81b8",
   "metadata": {},
   "outputs": [
    {
     "name": "stdout",
     "output_type": "stream",
     "text": [
      "0\n",
      "1\n",
      "2\n",
      "3\n",
      "4\n",
      "0\n",
      "1\n",
      "2\n",
      "3\n",
      "4\n",
      "6\n",
      "7\n",
      "8\n",
      "9\n",
      "IndexError\n",
      "Finally\n",
      "IndexError string index out of range\n"
     ]
    }
   ],
   "source": [
    "# 制御構文\n",
    "\n",
    "# break文\n",
    "\n",
    "for n in range(10):\n",
    "    if n == 5:\n",
    "        break\n",
    "    print(n)  #=> 0, 1, 2, 3, 4\n",
    "\n",
    "# continue文\n",
    "for n in range(10):\n",
    "    if n == 5:\n",
    "        continue\n",
    "    print(n)  #=> 0, 1, 2, 3, 4, 6, 7, 8, 9\n",
    "\n",
    "# 例外処理文\n",
    "str = 'ABC'\n",
    "try:\n",
    "    c = str[5]                    # 5番目の文字が無いので、IndexError例外が発生します\n",
    "except IOError:\n",
    "    print('IOError')              # IOError例外の場合、このブロックが実行されます\n",
    "except IndexError:\n",
    "    print('IndexError')           # IndexError例外の場合、このブロックが実行されます\n",
    "except:\n",
    "    print('Unknown')              # 上記以外の例外の場合、このブロックが実行されます\n",
    "else:\n",
    "    print('Other')                # 例外が発生しなかった場合、このブロックが実行されます\n",
    "finally:\n",
    "    print('Finally')              # 常に、このブロックが実行されます\n",
    "\n",
    "\n",
    "# 例外処理文asの使い方\n",
    "try:\n",
    "\n",
    "    c = str[5]                    # 5番目の文字が無いので、IndexError例外が発生します\n",
    "except IndexError as e:\n",
    "    print('IndexError', e)           #IndexError例外の場合、このブロックが実行されます"
   ]
  },
  {
   "cell_type": "code",
   "execution_count": null,
   "id": "bec0dd67",
   "metadata": {},
   "outputs": [],
   "source": [
    "# assert文\n",
    "a = 1   \n",
    "b = 2\n",
    "assert a == b, 'a != b'  # aとbが等しくない場合、AssertionError例外が発生します\n",
    "# assert文の使い方\n",
    "def assert_test(a, b):\n",
    "    assert a == b, 'a != b'  # aとbが等しくない場合、AssertionError例外が発生します\n",
    "    print('assert_test OK')\n",
    "try:\n",
    "    assert_test(1, 2)  # aとbが等しくないので、AssertionError例外が発生します\n",
    "except AssertionError as e:\n",
    "    print('AssertionError', e)"
   ]
  },
  {
   "cell_type": "code",
   "execution_count": null,
   "id": "9f6c5209",
   "metadata": {
    "vscode": {
     "languageId": "ini"
    }
   },
   "outputs": [],
   "source": [
    "# 11. exec文\n",
    "# exec文は、Pythonのコードを文字列として受け取り、それを実行します\n",
    "\n",
    "exec(\"print('Hello, World!')\")"
   ]
  },
  {
   "cell_type": "code",
   "execution_count": 15,
   "id": "f2f67ccd",
   "metadata": {},
   "outputs": [
    {
     "name": "stdout",
     "output_type": "stream",
     "text": [
      "Other\n"
     ]
    }
   ],
   "source": [
    "# 12.マッチ文\n",
    "c = 4\n",
    "match c:\n",
    "    case 1:\n",
    "        print(\"One\")\n",
    "    case 2:\n",
    "        print(\"Two\")\n",
    "    case 3:\n",
    "        print(\"Three\")\n",
    "    case _:\n",
    "        print(\"Other\")"
   ]
  },
  {
   "cell_type": "code",
   "execution_count": null,
   "id": "166abad7",
   "metadata": {},
   "outputs": [
    {
     "name": "stdout",
     "output_type": "stream",
     "text": [
      "main開始 13:36:35\n",
      "main終了 13:36:37\n"
     ]
    }
   ],
   "source": [
    "# 13.コルーチン文　処理を一時中断・再開できるもの コードはYoutubeのVtuber サプーより引用\n",
    "\n",
    "import asyncio\n",
    "import time\n",
    "\n",
    "async def main():\n",
    "    print(f\"main開始 {time.strftime('%X')}\")\n",
    "    task1 = asyncio.create_task(asyncio.sleep(1))\n",
    "    task2 = asyncio.create_task(asyncio.sleep(2))\n",
    "    await task1\n",
    "    await task2\n",
    "    print(f\"main終了 {time.strftime('%X')}\")\n",
    "\n",
    "if __name__ == \"__main__\":\n",
    "    await main()\n",
    "   \n",
    "#x : asyncio.run(main())→だとエラーが出る　※Jupyter Notebook上で実行する場合\n"
   ]
  },
  {
   "cell_type": "code",
   "execution_count": null,
   "id": "e880387a",
   "metadata": {},
   "outputs": [],
   "source": [
    "\n",
    "# 関数　イテレータ(iterator)とジェネレータ(generator)\n",
    "# イテレータ →連続データをp操作するオブジェクト\n",
    "# イテレータは、__iter__()メソッドと__next__()メソッドを持つオブジェクト\n",
    "\n",
    "class MyIterator:\n",
    "    def __init__(self, data):\n",
    "        self.data = data\n",
    "        self.index = 0\n",
    "\n",
    "    def __iter__(self):\n",
    "        return self\n",
    "\n",
    "    def __next__(self):\n",
    "        if self.index >= len(self.data):\n",
    "            raise StopIteration\n",
    "        value = self.data[self.index]\n",
    "        self.index += 1\n",
    "        return value\n",
    "    "
   ]
  },
  {
   "cell_type": "code",
   "execution_count": 25,
   "id": "9e0d8258",
   "metadata": {},
   "outputs": [
    {
     "name": "stdout",
     "output_type": "stream",
     "text": [
      "10\n",
      "['__class__', '__del__', '__delattr__', '__dir__', '__doc__', '__eq__', '__format__', '__ge__', '__getattribute__', '__getstate__', '__gt__', '__hash__', '__init__', '__init_subclass__', '__iter__', '__le__', '__lt__', '__name__', '__ne__', '__new__', '__next__', '__qualname__', '__reduce__', '__reduce_ex__', '__repr__', '__setattr__', '__sizeof__', '__str__', '__subclasshook__', 'close', 'gi_code', 'gi_frame', 'gi_running', 'gi_suspended', 'gi_yieldfrom', 'send', 'throw']\n",
      "20\n",
      "['__class__', '__del__', '__delattr__', '__dir__', '__doc__', '__eq__', '__format__', '__ge__', '__getattribute__', '__getstate__', '__gt__', '__hash__', '__init__', '__init_subclass__', '__iter__', '__le__', '__lt__', '__name__', '__ne__', '__new__', '__next__', '__qualname__', '__reduce__', '__reduce_ex__', '__repr__', '__setattr__', '__sizeof__', '__str__', '__subclasshook__', 'close', 'gi_code', 'gi_frame', 'gi_running', 'gi_suspended', 'gi_yieldfrom', 'send', 'throw']\n",
      "30\n",
      "['__class__', '__del__', '__delattr__', '__dir__', '__doc__', '__eq__', '__format__', '__ge__', '__getattribute__', '__getstate__', '__gt__', '__hash__', '__init__', '__init_subclass__', '__iter__', '__le__', '__lt__', '__name__', '__ne__', '__new__', '__next__', '__qualname__', '__reduce__', '__reduce_ex__', '__repr__', '__setattr__', '__sizeof__', '__str__', '__subclasshook__', 'close', 'gi_code', 'gi_frame', 'gi_running', 'gi_suspended', 'gi_yieldfrom', 'send', 'throw']\n"
     ]
    }
   ],
   "source": [
    "#ジェネレータというのは、イテレータを簡単に作るためのもの\n",
    "\n",
    "# ジェネレータは、yield文を使って値を返す関数\n",
    "\n",
    "def my_generator():\n",
    "    x = 10\n",
    "    yield x\n",
    "    x += 10\n",
    "    yield x\n",
    "    x += 10\n",
    "    yield x\n",
    "\n",
    "mg = my_generator()\n",
    "\n",
    "for x in mg:\n",
    "    print(x)  # 10, 20, 30\n",
    "\n",
    "    print(dir(mg))"
   ]
  },
  {
   "cell_type": "code",
   "execution_count": null,
   "id": "d9984bbf",
   "metadata": {},
   "outputs": [
    {
     "name": "stdout",
     "output_type": "stream",
     "text": [
      "これはりんごです\n",
      "これはりんごです\n",
      "これはりんごです\n",
      "これはりんごです!\n"
     ]
    }
   ],
   "source": [
    "#関数もオブジェクトで　関数を引数に取ることができる\n",
    "def print_apple():\n",
    "    print(\"これはりんごです\")\n",
    "\n",
    "def repeat_funk_twice(func):\n",
    "    func()\n",
    "    func()  \n",
    "\n",
    "repeat_funk_twice(print_apple)  \n",
    "\n",
    "# 関数内関数\n",
    "def print_text_twice(text):\n",
    "    def add_exclamation(text):\n",
    "        return text + \"!\"\n",
    "    \n",
    "    text_e = add_exclamation(text)\n",
    "    print(text)\n",
    "    print(text_e)\n",
    "\n",
    "print_text_twice('これはりんごです')\n",
    "\n",
    "#　add_exclamation('これはりんごです')  # add_exclamationは関数内関数なので、外からは呼び出せない"
   ]
  },
  {
   "cell_type": "code",
   "execution_count": null,
   "id": "9233c827",
   "metadata": {},
   "outputs": [],
   "source": [
    "# 変数のスコープ　→変数の有効範囲\n",
    "def func():\n",
    "    x = 'これはりんごです'\n",
    "    print(x)  \n",
    "\n",
    "print(x) # xは関数内で定義された変数なので、関数外からは呼び出せない\n",
    "\n"
   ]
  },
  {
   "cell_type": "code",
   "execution_count": null,
   "id": "06efbb0d",
   "metadata": {
    "vscode": {
     "languageId": "ini"
    }
   },
   "outputs": [
    {
     "name": "stdout",
     "output_type": "stream",
     "text": [
      "start\n",
      "これはりんごです\n",
      "end\n"
     ]
    }
   ],
   "source": [
    "# デコレータの作り方\n",
    "def start_end(func):\n",
    "    def add_start_end():\n",
    "        print('start')\n",
    "        func()\n",
    "        print('end')\n",
    "    return add_start_end\n",
    "\n",
    "def print_apple():\n",
    "    print(\"これはりんごです\")\n",
    "\n",
    "start_end(print_apple)() #これはわかりにくい\n",
    "\n",
    "#　上のコードをデコレータを使って書き直すと下記のようになる。\n",
    "\n",
    "@start_end \n",
    "def print_apple():\n",
    "    print(\"これはりんごです\")\n",
    "\n",
    "print_apple() \n",
    "\n"
   ]
  },
  {
   "cell_type": "code",
   "execution_count": 37,
   "id": "1ebe7a6f",
   "metadata": {},
   "outputs": [
    {
     "ename": "TypeError",
     "evalue": "start_end.<locals>.add_start_end() takes 0 positional arguments but 1 was given",
     "output_type": "error",
     "traceback": [
      "\u001b[1;31m---------------------------------------------------------------------------\u001b[0m",
      "\u001b[1;31mTypeError\u001b[0m                                 Traceback (most recent call last)",
      "Cell \u001b[1;32mIn[37], line 13\u001b[0m\n\u001b[0;32m      9\u001b[0m \u001b[38;5;129m@start_end\u001b[39m\n\u001b[0;32m     10\u001b[0m \u001b[38;5;28;01mdef\u001b[39;00m \u001b[38;5;21mprint_text\u001b[39m(text):\n\u001b[0;32m     11\u001b[0m     \u001b[38;5;28mprint\u001b[39m(text \u001b[38;5;241m+\u001b[39m \u001b[38;5;124m'\u001b[39m\u001b[38;5;124m!\u001b[39m\u001b[38;5;124m'\u001b[39m)\n\u001b[1;32m---> 13\u001b[0m print_text(\u001b[38;5;124m'\u001b[39m\u001b[38;5;124mこれはりんごです\u001b[39m\u001b[38;5;124m'\u001b[39m)\n",
      "\u001b[1;31mTypeError\u001b[0m: start_end.<locals>.add_start_end() takes 0 positional arguments but 1 was given"
     ]
    }
   ],
   "source": [
    "# 引数がある関数にデコレータを設定する\n",
    "def start_end(func):\n",
    "    def add_start_end():\n",
    "        print('start')\n",
    "        func()\n",
    "        print('end')\n",
    "    return add_start_end\n",
    "\n",
    "@start_end\n",
    "def print_text(text):\n",
    "    print(text + '!')\n",
    "\n",
    "print_text('これはりんごです')\n",
    "\n"
   ]
  }
 ],
 "metadata": {
  "kernelspec": {
   "display_name": "base",
   "language": "python",
   "name": "python3"
  },
  "language_info": {
   "codemirror_mode": {
    "name": "ipython",
    "version": 3
   },
   "file_extension": ".py",
   "mimetype": "text/x-python",
   "name": "python",
   "nbconvert_exporter": "python",
   "pygments_lexer": "ipython3",
   "version": "3.12.3"
  }
 },
 "nbformat": 4,
 "nbformat_minor": 5
}
