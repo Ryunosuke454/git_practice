{
 "cells": [
  {
   "cell_type": "code",
   "execution_count": 1,
   "id": "b792d308",
   "metadata": {},
   "outputs": [
    {
     "name": "stdout",
     "output_type": "stream",
     "text": [
      "Tanaka\n",
      "Suzuki\n"
     ]
    }
   ],
   "source": [
    "# クラス変数・インスタンス変数\n",
    "class Myclass:\n",
    "    def __init__(self):\n",
    "        self.name = \"\" # インスタンス変数\n",
    "\n",
    "a1 = Myclass()\n",
    "a1.name = 'Tanaka'\n",
    "\n",
    "a2 = Myclass()\n",
    "a2.name = 'Suzuki'\n",
    "\n",
    "print(a1.name) # Tanaka\n",
    "print(a2.name) # Suzuki"
   ]
  },
  {
   "cell_type": "code",
   "execution_count": null,
   "id": "15d6b73b",
   "metadata": {},
   "outputs": [],
   "source": [
    "# クラス変数を用いてインスタンスの個数をカウント\n",
    "class Myclass:\n",
    "    count = 0 # クラス変数\n",
    "\n",
    "    def __init__(self):\n",
    "        Myclass.count += 1 # インスタンス生成時にカウントアップ\n",
    "\n",
    "a1 = Myclass()\n",
    "a2 = Myclass()\n",
    "print(Myclass.count)       #=> 2"
   ]
  },
  {
   "cell_type": "code",
   "execution_count": 2,
   "id": "098cb1d5",
   "metadata": {},
   "outputs": [],
   "source": [
    "# 3.メソッド\n",
    "\n",
    "class MyClass:\n",
    "    name = \"\"\n",
    "    def setName(self, name):     # 第一引数は自インスタンス(self)\n",
    "        self.name = name\n",
    "\n",
    "a = MyClass()\n",
    "a.setName(\"Tanaka\")"
   ]
  },
  {
   "cell_type": "code",
   "execution_count": 3,
   "id": "ee2681fa",
   "metadata": {},
   "outputs": [
    {
     "name": "stdout",
     "output_type": "stream",
     "text": [
      "tanaka\n",
      "yamada\n",
      "hello\n",
      "hello\n"
     ]
    }
   ],
   "source": [
    "# 4.アクセス制限\n",
    "class MyClass:\n",
    "    def __init__(self):\n",
    "        self.name = \"tanaka\"\n",
    "        self._name = \"yamada\"\n",
    "        self.__name = \"suzuki\"\n",
    "\n",
    "    def hello(self): print('hello')\n",
    "    def _hello(self): print('hello')\n",
    "    def __hello(self): print('hello')\n",
    "\n",
    "a = MyClass()\n",
    "\n",
    "print(a.name)           # 参照できる\n",
    "print(a._name)          # 参照できるが慣習的に参照しない\n",
    "# print(a.__name)       # 参照できない(AttributeError例外)\n",
    "\n",
    "a.hello()               # 参照できる\n",
    "a._hello()              # 参照できるが慣習的に参照しない\n",
    "# a.__hello()           # 参照できない(AttributeError例外)"
   ]
  },
  {
   "cell_type": "code",
   "execution_count": null,
   "id": "886011d5",
   "metadata": {},
   "outputs": [
    {
     "name": "stdout",
     "output_type": "stream",
     "text": [
      "Tanaka\n"
     ]
    }
   ],
   "source": [
    "# 5.コンストラクタ\n",
    "# __init__メソッドを定義することでインスタンス生成時に自動的に呼び出される\n",
    "class MyClass:\n",
    "    def __init__(self, name):\n",
    "        self.name = name\n",
    "    \n",
    "    def getName(self):\n",
    "        return self.name\n",
    "    \n",
    "a = MyClass(\"Tanaka\")\n",
    "print(a.getName())      # Tanaka"
   ]
  },
  {
   "cell_type": "code",
   "execution_count": null,
   "id": "180c705e",
   "metadata": {},
   "outputs": [],
   "source": [
    "# 6.デストラクタ\n",
    "# デストラクタは__del__メソッドで定義する\n",
    "class MyClass:\n",
    "    def __init__(self):\n",
    "        print(\"INIT!\")\n",
    "    def __del__(self):\n",
    "        print(\"DEL!\")\n",
    "\n",
    "a = MyClass()           #=> INIT!\n",
    "del a                   #=> DEL!"
   ]
  },
  {
   "cell_type": "code",
   "execution_count": 6,
   "id": "5a3d14c3",
   "metadata": {},
   "outputs": [
    {
     "name": "stdout",
     "output_type": "stream",
     "text": [
      "My name is Yamada\n"
     ]
    }
   ],
   "source": [
    "# 7.文字列化\n",
    "class MyClass:\n",
    "    def __init__(self, name):\n",
    "        self.name = name\n",
    "\n",
    "    def __str__(self):\n",
    "        return \"My name is \" + self.name\n",
    "    \n",
    "a = MyClass(\"Yamada\")\n",
    "print(a)"
   ]
  },
  {
   "cell_type": "code",
   "execution_count": 11,
   "id": "e2a17c4c",
   "metadata": {},
   "outputs": [
    {
     "name": "stdout",
     "output_type": "stream",
     "text": [
      "Hello\n",
      "World\n",
      "HELLO\n"
     ]
    }
   ],
   "source": [
    "# 8.継承\n",
    "class MyClass:\n",
    "    def hello(self):\n",
    "        print(\"Hello\")\n",
    "\n",
    "class MyClass2(MyClass):\n",
    "    def world(self):\n",
    "        print(\"World\")\n",
    "\n",
    "a = MyClass2()\n",
    "a.hello()             # Hello\n",
    "a.world()             # World\n",
    "\n",
    "class MyClass:\n",
    "    def hello(self):\n",
    "        print(\"Hello\")\n",
    "\n",
    "class MyClass2(MyClass):\n",
    "    def hello(self):        # 親クラスのhello()メソッドをオーバーライド\n",
    "        print(\"HELLO\")\n",
    "\n",
    "a = MyClass2()\n",
    "a.hello()        "
   ]
  },
  {
   "cell_type": "code",
   "execution_count": null,
   "id": "e9733bb2",
   "metadata": {},
   "outputs": [
    {
     "name": "stdout",
     "output_type": "stream",
     "text": [
      "HELLO\n"
     ]
    }
   ],
   "source": [
    " # 9.親クラス(super())\n",
    "class MyClass1(object):\n",
    "    def __init__(self):\n",
    "        self.val1 = 123\n",
    "\n",
    "class MyClass2(MyClass1):\n",
    "    def __init__(self):\n",
    "        super(MyClass2,self).__init__()  # 親クラスのコンストラクタを呼び出す\n",
    "        self.val2 = 456\n",
    "\n",
    "a = MyClass2()\n",
    "print(a.val1)          # 123\n",
    "print(a.val2)          # 456"
   ]
  },
  {
   "cell_type": "code",
   "execution_count": 12,
   "id": "8800bc85",
   "metadata": {},
   "outputs": [
    {
     "name": "stdout",
     "output_type": "stream",
     "text": [
      "MyClassA:funcA\n",
      "MyClassB:funcB\n"
     ]
    }
   ],
   "source": [
    "# 10. 多重継承\n",
    "class MyClassA:\n",
    "    def funcA(self):\n",
    "        print(\"MyClassA:funcA\")\n",
    "\n",
    "class MyClassB:\n",
    "    def funcB(self):\n",
    "        print(\"MyClassB:funcB\")\n",
    "\n",
    "class MyClassC(MyClassA, MyClassB):\n",
    "    pass\n",
    "\n",
    "a = MyClassC()\n",
    "a.funcA()                    # MyClassA のメソッドも\n",
    "a.funcB()                    # MyClassB のメソッドも使用できる"
   ]
  },
  {
   "cell_type": "code",
   "execution_count": null,
   "id": "c652dd12",
   "metadata": {},
   "outputs": [],
   "source": [
    "# 1.モジュール（mymod.py）\n",
    "\n",
    "def myfunc():\n",
    "    print(\"Hello!\")\n",
    "\n",
    "\n",
    "import mymod\n",
    "\n",
    "mymod.myfunc()"
   ]
  },
  {
   "cell_type": "code",
   "execution_count": null,
   "id": "7815138c",
   "metadata": {},
   "outputs": [],
   "source": [
    "# 2. パッケージ(package)\n",
    "\n",
    "\n",
    "# 3. モジュールのインポート\n",
    "# import [パッケージ.]モジュール\n",
    "import mypack1.mypack2.mymod\n",
    "mypack1.mypack2.mymod.myfunc()\n",
    "\n",
    "# from パッケージ import モジュール\n",
    "from mypack1.mypack2 import mymod\n",
    "mymod.myfunc()\n",
    "\n",
    "# from パッケージ import *\n",
    "from mypack1.mypack2 import *                # __all__の設定が必要\n",
    "mymod.myfunc()\n",
    "\n",
    "# from [パッケージ.]モジュール import 識別子\n",
    "from mypack1.mypack2.mymod import myfunc\n",
    "myfunc()\n",
    "\n",
    "# from [パッケージ.]モジュール import *\n",
    "from mypack1.mypack2.mymod import *\n",
    "myfunc()"
   ]
  },
  {
   "cell_type": "code",
   "execution_count": null,
   "id": "b9f64ce8",
   "metadata": {},
   "outputs": [],
   "source": [
    "#4. パッケージ名\n",
    "print(__package__)\n",
    "#5. ファイル名\n",
    "print(__file__)\n",
    "#6. モジュール名\n",
    "if __name__ == \"__main__\":\n",
    "    test()\n",
    "    \n",
    "#7. ビルトインモジュール(__builtin__)\n",
    "import __builtin__\n",
    "\n",
    "for line in __builtin__.open(\"test.txt\"):\n",
    "    print(line)"
   ]
  }
 ],
 "metadata": {
  "kernelspec": {
   "display_name": "base",
   "language": "python",
   "name": "python3"
  },
  "language_info": {
   "codemirror_mode": {
    "name": "ipython",
    "version": 3
   },
   "file_extension": ".py",
   "mimetype": "text/x-python",
   "name": "python",
   "nbconvert_exporter": "python",
   "pygments_lexer": "ipython3",
   "version": "3.12.3"
  }
 },
 "nbformat": 4,
 "nbformat_minor": 5
}
